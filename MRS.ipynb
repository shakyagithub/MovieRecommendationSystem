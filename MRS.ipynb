{
  "nbformat": 4,
  "nbformat_minor": 0,
  "metadata": {
    "colab": {
      "provenance": []
    },
    "kernelspec": {
      "name": "python3",
      "display_name": "Python 3"
    },
    "language_info": {
      "name": "python"
    }
  },
  "cells": [
    {
      "cell_type": "code",
      "execution_count": null,
      "metadata": {
        "id": "TwMaDQy_TKYY"
      },
      "outputs": [],
      "source": [
        "# Import required libraries\n",
        "import numpy as np\n",
        "import pandas as pd\n",
        "import ast\n",
        "from sklearn.feature_extraction.text import CountVectorizer\n",
        "from sklearn.metrics.pairwise import cosine_similarity\n",
        "import pickle\n",
        "import requests\n"
      ]
    },
    {
      "cell_type": "code",
      "source": [
        "# Load data\n",
        "movies = pd.read_csv('/content/tmdb_5000_movies.csv')\n",
        "credits = pd.read_csv('/content/tmdb_5000_credits.csv')\n",
        "\n",
        "# Merge datasets\n",
        "movies = movies.merge(credits, on='title')\n",
        "\n",
        "# Select relevant columns\n",
        "movies = movies[['movie_id', 'title', 'overview', 'genres', 'keywords', 'cast', 'crew']]\n",
        "\n",
        "# Define conversion functions\n",
        "def convert(text):\n",
        "    L = []\n",
        "    for i in ast.literal_eval(text):\n",
        "        L.append(i['name'])\n",
        "    return L\n",
        "\n",
        "def convert3(text):\n",
        "    L = []\n",
        "    counter = 0\n",
        "    for i in ast.literal_eval(text):\n",
        "        if counter < 3:\n",
        "            L.append(i['name'])\n",
        "        counter += 1\n",
        "    return L\n",
        "\n",
        "def fetch_director(text):\n",
        "    L = []\n",
        "    for i in ast.literal_eval(text):\n",
        "        if i['job'] == 'Director':\n",
        "            L.append(i['name'])\n",
        "    return L\n",
        "\n",
        "def collapse(L):\n",
        "    L1 = []\n",
        "    for i in L:\n",
        "        L1.append(i.replace(\" \", \"\"))\n",
        "    return L1\n",
        "\n",
        "# Data preprocessing\n",
        "movies.dropna(inplace=True)\n",
        "movies['genres'] = movies['genres'].apply(convert)\n",
        "movies['keywords'] = movies['keywords'].apply(convert)\n",
        "movies['cast'] = movies['cast'].apply(convert).apply(lambda x: x[0:3])\n",
        "movies['crew'] = movies['crew'].apply(fetch_director)\n",
        "movies['cast'] = movies['cast'].apply(collapse)\n",
        "movies['crew'] = movies['crew'].apply(collapse)\n",
        "movies['genres'] = movies['genres'].apply(collapse)\n",
        "movies['keywords'] = movies['keywords'].apply(collapse)\n",
        "\n",
        "# Combine tags\n",
        "movies['overview'] = movies['overview'].apply(lambda x: x.split())\n",
        "movies['tags'] = movies['overview'] + movies['genres'] + movies['keywords'] + movies['cast'] + movies['crew']\n",
        "\n",
        "# Drop old columns and prepare tags for vectorization\n",
        "new = movies.drop(columns=['overview', 'genres', 'keywords', 'cast', 'crew'])\n",
        "new['tags'] = new['tags'].apply(lambda x: \" \".join(x))\n"
      ],
      "metadata": {
        "id": "BtNVC_J4UrsD"
      },
      "execution_count": null,
      "outputs": []
    },
    {
      "cell_type": "code",
      "source": [
        "# Vectorization\n",
        "cv = CountVectorizer(max_features=5000, stop_words='english')\n",
        "vector = cv.fit_transform(new['tags']).toarray()\n",
        "\n",
        "# Compute similarity\n",
        "similarity = cosine_similarity(vector)\n",
        "\n",
        "# Save model and similarity matrix\n",
        "pickle.dump(new, open('/content/movie_list.pkl', 'wb'))\n",
        "pickle.dump(similarity, open('/content/similarity.pkl', 'wb'))\n"
      ],
      "metadata": {
        "id": "LcJW2WHzUtZT"
      },
      "execution_count": null,
      "outputs": []
    },
    {
      "cell_type": "code",
      "source": [
        "def fetch_poster(movie_id):\n",
        "    url = f\"https://api.themoviedb.org/3/movie/{movie_id}?api_key=8265bd1679663a7ea12ac168da84d2e8&language=en-US\"\n",
        "    data = requests.get(url).json()\n",
        "    poster_path = data['poster_path']\n",
        "    full_path = f\"https://image.tmdb.org/t/p/w500/{poster_path}\"\n",
        "    return full_path\n",
        "\n",
        "def recommend(movie):\n",
        "    index = new[new['title'] == movie].index[0]\n",
        "    distances = sorted(list(enumerate(similarity[index])), reverse=True, key=lambda x: x[1])\n",
        "    recommended_movie_names = []\n",
        "    recommended_movie_posters = []\n",
        "    for i in distances[1:11]:\n",
        "        movie_id = new.iloc[i[0]].movie_id\n",
        "        recommended_movie_posters.append(fetch_poster(movie_id))\n",
        "        recommended_movie_names.append(new.iloc[i[0]].title)\n",
        "    return recommended_movie_names, recommended_movie_posters\n"
      ],
      "metadata": {
        "id": "f_zFtaa7UwTa"
      },
      "execution_count": null,
      "outputs": []
    },
    {
      "cell_type": "code",
      "source": [
        "# Test recommendation\n",
        "movie = 'Avatar'\n",
        "recommended_movies = recommend(movie)\n",
        "print(\"Recommended Movies:\", recommended_movies)\n"
      ],
      "metadata": {
        "colab": {
          "base_uri": "https://localhost:8080/"
        },
        "id": "Jc8DoV-AU0FP",
        "outputId": "80c86782-7904-48fa-ae86-af1b12972f8a"
      },
      "execution_count": null,
      "outputs": [
        {
          "output_type": "stream",
          "name": "stdout",
          "text": [
            "Recommended Movies: (['Titan A.E.', 'Small Soldiers', \"Ender's Game\", 'Aliens vs Predator: Requiem', 'Independence Day', 'Krull', 'Lifeforce', 'Battle: Los Angeles', 'Falcon Rising', 'Edge of Tomorrow'], ['https://image.tmdb.org/t/p/w500//el2iHk3LTJWfEnwrvcRkvWY501G.jpg', 'https://image.tmdb.org/t/p/w500//2nuUjSzHsoYlRvTPmLo7m7gCQry.jpg', 'https://image.tmdb.org/t/p/w500//vrEpLNkv30qw7JiVyorgR6NOWDm.jpg', 'https://image.tmdb.org/t/p/w500//jCyJN1vj8jqJJ0vNw4hDH2KlySO.jpg', 'https://image.tmdb.org/t/p/w500//p0BPQGSPoSa8Ml0DAf2mB2kCU0R.jpg', 'https://image.tmdb.org/t/p/w500//2dyMDv6W3ugMfaC8DEXPiqMcurD.jpg', 'https://image.tmdb.org/t/p/w500//953hMDf9G2ZRIEs97M6iFIYWtWF.jpg', 'https://image.tmdb.org/t/p/w500//jloyGeVYZSxM9zsLFvVOWuj2ey4.jpg', 'https://image.tmdb.org/t/p/w500//4wnfTO8mvqcTU62YMkUeKq49VMT.jpg', 'https://image.tmdb.org/t/p/w500//xjw5trHV7Mwo61P0kCTy8paEkgO.jpg'])\n"
          ]
        }
      ]
    }
  ]
}